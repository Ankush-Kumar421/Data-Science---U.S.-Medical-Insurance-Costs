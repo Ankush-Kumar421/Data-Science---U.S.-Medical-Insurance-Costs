{
 "cells": [
  {
   "cell_type": "markdown",
   "metadata": {},
   "source": [
    "# U.S. Medical Insurance Costs"
   ]
  },
  {
   "cell_type": "markdown",
   "metadata": {},
   "source": [
    "In this project, a **CSV** file with medical insurance costs will be investigated using Python fundamentals. The goal with this project will be to analyze various attributes within **insurance.csv** to learn more about patient information in the file and gain insight into potential use cases for the dataset.\n",
    "\n",
    "To start, all necessary libraries must be imported. For this project, the only library needed is the `csv` library in order to work with the **insurance.csv** data. There are other potential libraries that could help with this project, however, for this analysis, using just `csv` library will suffice. "
   ]
  },
  {
   "cell_type": "code",
   "execution_count": 1,
   "metadata": {},
   "outputs": [],
   "source": [
    "# import csv library\n",
    "import csv\n"
   ]
  },
  {
   "cell_type": "markdown",
   "metadata": {},
   "source": [
    "The next step is to look through **insurance.csv** in order to get aquanted with the data. The following aspects of the data file will be checked in order to plan out how to import the data into a Python file:\n",
    "* The names of columns and rows\n",
    "* Any noticeable missing data\n",
    "* Types of values (numerical vs. categorical)\n",
    "\n",
    "<br>\n",
    "\n",
    "**insurance.csv** contains the following columns:\n",
    "* Patient Age\n",
    "* Patient Sex \n",
    "* Patient BMI\n",
    "* Patient Number of Children\n",
    "* Patient Smoking Status\n",
    "* Patient U.S Geopraphical Region\n",
    "* Patient Yearly Medical Insurance Cost\n",
    "\n",
    "There are no signs of missing data. To store this information, seven empty lists will be created to hold each individual column of data from **insurance.csv**."
   ]
  },
  {
   "cell_type": "code",
   "execution_count": 2,
   "metadata": {},
   "outputs": [],
   "source": [
    "# Create empty lists for each columns in insurance.csv\n",
    "ages = []\n",
    "sexes = []\n",
    "bmis = []\n",
    "num_children = []\n",
    "smoker_statuses = []\n",
    "regions = []\n",
    "insurance_charges = []\n",
    "\n",
    "\n",
    "# load csv data\n",
    "with open('insurance.csv', \"r\") as insurance_csv:\n",
    "    # read data and put into a dictionary\n",
    "    insurance_dict = csv.DictReader(insurance_csv, delimiter=',')\n",
    "    # loop through the data in each row of the csb\n",
    "    for row in insurance_dict:\n",
    "        # add the data from each row to it's respective list\n",
    "        ages.append(row['age'])\n",
    "        sexes.append(row['sex'])\n",
    "        bmis.append(row['bmi'])\n",
    "        num_children.append(row['children'])\n",
    "        smoker_statuses.append(row['smoker'])\n",
    "        regions.append(row['region'])\n",
    "        insurance_charges.append(row['charges'])\n",
    "        #print(row) # Each row is a dictionary        \n",
    "        "
   ]
  },
  {
   "cell_type": "markdown",
   "metadata": {},
   "source": [
    "Now that all the data from **insurance.csv** neatly organized into labeled lists, the analysis can be started. This is where I plan out what to investigate and how to perform the analysis. There are many aspects of the data that could be looked into. The following operations will be implemented:\n",
    "* find average age of the patients\n",
    "* return the number of males vs. females counted in the dataset\n",
    "* find geographical location of the patients\n",
    "* return the average yearly medical charges of the patients\n",
    "* find the different costs between smokers and non-smokers\n",
    "* find average age for someone who has at least one child in the dataset\n",
    "* creating a dictionary that contains all patient information\n",
    "\n",
    "*Note that numerical data in the lists we created earlier are in string mode. In order to perform our calcualtions, they would need to be converted to intergers or floats (decimals) in our Python code.* "
   ]
  },
  {
   "cell_type": "code",
   "execution_count": 3,
   "metadata": {},
   "outputs": [
    {
     "data": {
      "text/plain": [
       "'Average Patient Age: 39.21 years.'"
      ]
     },
     "execution_count": 3,
     "metadata": {},
     "output_type": "execute_result"
    }
   ],
   "source": [
    "# Calculate the average age of the patients in the dataset.\n",
    "def avg_ages():\n",
    "    total_age = 0\n",
    "    for string_age in ages:\n",
    "        # convert each age from string to a intger and add it to the total\n",
    "        total_age += int(string_age)\n",
    "        # return total age divided by the number of items in the ages list\n",
    "    return (f\"Average Patient Age: {round(total_age / len(ages), 2)} years.\")\n",
    "    \n",
    "avg_ages() # call the function to see the average paitent age\n"
   ]
  },
  {
   "cell_type": "markdown",
   "metadata": {},
   "source": [
    "The average age of the patients in **insurance.csv** is about 39 years old."
   ]
  },
  {
   "cell_type": "code",
   "execution_count": 4,
   "metadata": {},
   "outputs": [
    {
     "name": "stdout",
     "output_type": "stream",
     "text": [
      "Total number of female patients: 662.\n",
      "Total number of male patients: 676.\n"
     ]
    }
   ],
   "source": [
    "# Count the number of males and females in the dataset.\n",
    "\n",
    "print(f\"Total number of female patients: {sexes.count('female')}.\")\n",
    "print(f\"Total number of male patients: {sexes.count('male')}.\")\n"
   ]
  },
  {
   "cell_type": "markdown",
   "metadata": {},
   "source": [
    "The number of males and females in **insurance.csv** are almost equal. Hence, the dataset is representative of a borader population of individuals. "
   ]
  },
  {
   "cell_type": "code",
   "execution_count": 5,
   "metadata": {},
   "outputs": [
    {
     "name": "stdout",
     "output_type": "stream",
     "text": [
      "['southwest', 'southeast', 'northwest', 'northeast']\n",
      "Total number of patients from southwest region: 325.\n",
      "Total number of patients from southeast region: 364.\n",
      "Total number of patients from northwest region: 325.\n",
      "Total number of patients from northeast region: 324.\n"
     ]
    }
   ],
   "source": [
    "# find all the unique geographical location of the patients\n",
    "\n",
    "def unique_regions():\n",
    "    # find all unique region and put them in a list\n",
    "    unique_regions = [] \n",
    "    for region in regions:\n",
    "        if region not in unique_regions:\n",
    "            # if the region is not in list, then add it\n",
    "            unique_regions.append(region)\n",
    "    print(unique_regions)\n",
    "    # Count the number of patients from each region\n",
    "    for region in unique_regions:\n",
    "        print(f\"Total number of patients from {region} region: {regions.count(region)}.\")\n",
    "            \n",
    "unique_regions() # call the function to see each unique region patients are from\n"
   ]
  },
  {
   "cell_type": "markdown",
   "metadata": {},
   "source": [
    "There are four unique geographical regions in this dataset, and it is important to note that all patients come from the United States. Majority of the patients come from the southeast region in the amount of 364 patients."
   ]
  },
  {
   "cell_type": "code",
   "execution_count": 6,
   "metadata": {},
   "outputs": [
    {
     "data": {
      "text/plain": [
       "'Average Yearly Medical Insurance Charges: $13270.42'"
      ]
     },
     "execution_count": 6,
     "metadata": {},
     "output_type": "execute_result"
    }
   ],
   "source": [
    "# Calculate the average yearly medical charges of the patients\n",
    "\n",
    "def avg_insurance_charges():\n",
    "    total_charges = 0\n",
    "    for string_charge in insurance_charges:\n",
    "        # convert each charge from string to a float and add it to the total\n",
    "        total_charges += float(string_charge)\n",
    "        # return total charges divided by the number of items in the insurance_charges list\n",
    "    return (f\"Average Yearly Medical Insurance Charges: ${round(total_charges / len(insurance_charges), 2)}\")\n",
    "    \n",
    "avg_insurance_charges() # call the function to see the average yearly medical charges\n"
   ]
  },
  {
   "cell_type": "markdown",
   "metadata": {},
   "source": [
    "The average yearly medical insurance charge per individual is $13,270 US dollars."
   ]
  },
  {
   "cell_type": "code",
   "execution_count": 10,
   "metadata": {},
   "outputs": [
    {
     "name": "stdout",
     "output_type": "stream",
     "text": [
      "The average medical cost for a smokers: 32050.23.\n",
      "The average medical cost for a non-smokers: 8434.27.\n",
      "The average medical cost for a smoker is 23615.96 more than a non-smoker.\n"
     ]
    }
   ],
   "source": [
    "# What are the average costs of smokers vs. non-smokers.\n",
    "\n",
    "def Avg_smoker_non_smoker_cost():\n",
    "    # Create empty list for both smokers and non-smokers.\n",
    "    smoker_charges = []\n",
    "    non_smoker_charges = []\n",
    "    \n",
    "    # Create index tracker for both smoker and non-smokers.\n",
    "    # Index tracker will keep track of where to start the search for a 'yes' or 'no'\n",
    "    # smoker status.\n",
    "    smoker_index_start = 0 \n",
    "    non_smoker_index_start = 0 \n",
    "    \n",
    "    for smoker_status in smoker_statuses:    \n",
    "        if smoker_status == \"yes\":\n",
    "            # If smoker status is \"yes\" then add the patient charge to smoker_charges list.\n",
    "            # Use index() with Start and End Parameters \n",
    "            smoker_index = smoker_statuses.index('yes', smoker_index_start, len(smoker_statuses))\n",
    "            #Add plus one to the smoker_index_start so the search for 'yes' next time \n",
    "            # will start on the next index because we don't want to double count the previous\n",
    "            # index.\n",
    "            smoker_index_start = smoker_index + 1\n",
    "            # Turn the chrage from a string to float then add it to list.\n",
    "            smoker_charges.append(float(insurance_charges[smoker_index]))\n",
    "        elif smoker_status == \"no\":\n",
    "            # If smoker status is 'no' then add the patient charge to non_smoker_charges list.\n",
    "            # The remaining code has the same logic as the smoker.\n",
    "            non_smoker_index = smoker_statuses.index('no', non_smoker_index_start, len(smoker_statuses))\n",
    "            non_smoker_index_start = non_smoker_index + 1\n",
    "            non_smoker_charges.append(float(insurance_charges[non_smoker_index]))\n",
    "    # calculate average for both smokers and non-smokers chages\n",
    "    avg_smoker_charges = round(sum(smoker_charges) / len(smoker_charges), 2)\n",
    "    avg_non_smoker_charges = round(sum(non_smoker_charges) / len(non_smoker_charges), 2)\n",
    "    print(f\"The average medical cost for a smokers: {avg_smoker_charges}.\")\n",
    "    print(f\"The average medical cost for a non-smokers: {avg_non_smoker_charges}.\")\n",
    "    print(f\"The average medical cost for a smoker is {avg_smoker_charges - avg_non_smoker_charges} more than a non-smoker.\")\n",
    "\n",
    "    \n",
    "Avg_smoker_non_smoker_cost() # Call the function\n"
   ]
  },
  {
   "cell_type": "markdown",
   "metadata": {},
   "source": [
    "The average medical cost for a smoker is $23,616 higher than a non-smoker. It's cheaper and healther to not smoke!"
   ]
  },
  {
   "cell_type": "code",
   "execution_count": 8,
   "metadata": {},
   "outputs": [
    {
     "name": "stdout",
     "output_type": "stream",
     "text": [
      "The average age for someone who has at least one child: 39.78.\n"
     ]
    }
   ],
   "source": [
    "# What is the average age for someone who has at least one child in the dataset?\n",
    "\n",
    "def avg_age_one_or_more_child():\n",
    "    age_patients = []\n",
    "    age_index_start = 0 # create age index tracker\n",
    "    for children in num_children:    \n",
    "        if int(children) >= 1:\n",
    "            # If patient has one or more child then add age to age_patients list.\n",
    "            age_index = num_children.index(children, age_index_start)\n",
    "            age_index_start = age_index + 1 # add one to the age index tracker to avoid double count\n",
    "            age_patients.append(int(ages[age_index]))\n",
    "    avg_age = round(sum(age_patients) / len(age_patients), 2)\n",
    "    print(f\"The average age for someone who has at least one child: {avg_age}.\")\n",
    "\n",
    "avg_age_one_or_more_child()\n"
   ]
  },
  {
   "cell_type": "code",
   "execution_count": 9,
   "metadata": {},
   "outputs": [],
   "source": [
    "# Created a dictionary that contains all patient information\n",
    "\n",
    "def create_patient_dict():\n",
    "    patient_dict = {}\n",
    "    patient_dict[\"age\"] = [int(age) for age in ages]\n",
    "    patient_dict[\"sexe\"] = sexes\n",
    "    patient_dict[\"bmi\"] = [float(bmi) for bmi in bmis]\n",
    "    patient_dict[\"children\"] = [int(children) for children in num_children]\n",
    "    patient_dict[\"smoker\"] = smoker_statuses\n",
    "    patient_dict[\"region\"] = regions\n",
    "    patient_dict[\"charges\"] = [float(insurance_charge) for insurance_charge in insurance_charges]\n",
    "    return patient_dict\n",
    "\n",
    "# create_patient_dict() # Un-comment this function to call it. \n"
   ]
  },
  {
   "attachments": {
    "Dictionary%20Output%20-%20Image.PNG": {
     "image/png": "[encoded data removed]"
    }
   },
   "cell_type": "markdown",
   "metadata": {},
   "source": [
    "![Dictionary%20Output%20-%20Image.PNG](attachment:Dictionary%20Output%20-%20Image.PNG)"
   ]
  },
  {
   "cell_type": "markdown",
   "metadata": {},
   "source": [
    "All patient data is now neatly organized in **one** dictionary. This is convenient for further analysis if a decision is made to continue making investigations for the attributes in **insurance.csv**. \n",
    "\n",
    "The amove image shows a sample of how the dictionary would look like if the *create_patient_dict()* function is called. If I actually called the function, then it will show all the data and we would end up needing to scrolling down a long way to the end of this page.\n",
    "\n",
    "*Note that when we first read and opened the `csv` file at the beginning of this project, each row was a dictionary. In the code above, the dictionary consists of only one row.*\n"
   ]
  }
 ],
 "metadata": {
  "kernelspec": {
   "display_name": "Python 3",
   "language": "python",
   "name": "python3"
  },
  "language_info": {
   "codemirror_mode": {
    "name": "ipython",
    "version": 3
   },
   "file_extension": ".py",
   "mimetype": "text/x-python",
   "name": "python",
   "nbconvert_exporter": "python",
   "pygments_lexer": "ipython3",
   "version": "3.8.3"
  }
 },
 "nbformat": 4,
 "nbformat_minor": 4
}
